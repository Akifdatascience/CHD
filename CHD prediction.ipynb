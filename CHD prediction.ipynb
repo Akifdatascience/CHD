{
 "cells": [
  {
   "cell_type": "code",
   "execution_count": 114,
   "id": "6ed188fd",
   "metadata": {},
   "outputs": [],
   "source": [
    "#Here importing the necessary libraries\n",
    "import pandas as pd\n",
    "import numpy as np\n",
    "import matplotlib.pylab as plt\n",
    "import seaborn as sns"
   ]
  },
  {
   "cell_type": "code",
   "execution_count": 115,
   "id": "5bf0d78c",
   "metadata": {},
   "outputs": [],
   "source": [
    "#Reading first csv file\n",
    "df=pd.read_csv(r\"C:\\Users\\Akif\\Downloads\\Data Science\\chd.xlsx\")\n"
   ]
  },
  {
   "cell_type": "code",
   "execution_count": 116,
   "id": "3b80ed23",
   "metadata": {},
   "outputs": [],
   "source": [
    "# Columns to remove\n",
    "columns_to_remove = ['id', 'education','prevalentStroke','prevalentHyp','BMI','heartRate','BPMeds','totChol','cigsPerDay']\n",
    "\n",
    "# Remove the columns from the DataFrame\n",
    "df.drop(columns=columns_to_remove, inplace=True)"
   ]
  },
  {
   "cell_type": "code",
   "execution_count": 117,
   "id": "7cd6856b",
   "metadata": {},
   "outputs": [
    {
     "data": {
      "text/html": [
       "<div>\n",
       "<style scoped>\n",
       "    .dataframe tbody tr th:only-of-type {\n",
       "        vertical-align: middle;\n",
       "    }\n",
       "\n",
       "    .dataframe tbody tr th {\n",
       "        vertical-align: top;\n",
       "    }\n",
       "\n",
       "    .dataframe thead th {\n",
       "        text-align: right;\n",
       "    }\n",
       "</style>\n",
       "<table border=\"1\" class=\"dataframe\">\n",
       "  <thead>\n",
       "    <tr style=\"text-align: right;\">\n",
       "      <th></th>\n",
       "      <th>age</th>\n",
       "      <th>sex</th>\n",
       "      <th>is_smoking</th>\n",
       "      <th>diabetes</th>\n",
       "      <th>sysBP</th>\n",
       "      <th>diaBP</th>\n",
       "      <th>glucose</th>\n",
       "      <th>TenYearCHD</th>\n",
       "    </tr>\n",
       "  </thead>\n",
       "  <tbody>\n",
       "    <tr>\n",
       "      <th>0</th>\n",
       "      <td>64</td>\n",
       "      <td>F</td>\n",
       "      <td>YES</td>\n",
       "      <td>0</td>\n",
       "      <td>148.0</td>\n",
       "      <td>85.0</td>\n",
       "      <td>80.0</td>\n",
       "      <td>1</td>\n",
       "    </tr>\n",
       "    <tr>\n",
       "      <th>1</th>\n",
       "      <td>36</td>\n",
       "      <td>M</td>\n",
       "      <td>NO</td>\n",
       "      <td>0</td>\n",
       "      <td>168.0</td>\n",
       "      <td>98.0</td>\n",
       "      <td>75.0</td>\n",
       "      <td>0</td>\n",
       "    </tr>\n",
       "    <tr>\n",
       "      <th>2</th>\n",
       "      <td>46</td>\n",
       "      <td>F</td>\n",
       "      <td>YES</td>\n",
       "      <td>0</td>\n",
       "      <td>116.0</td>\n",
       "      <td>71.0</td>\n",
       "      <td>94.0</td>\n",
       "      <td>0</td>\n",
       "    </tr>\n",
       "    <tr>\n",
       "      <th>3</th>\n",
       "      <td>50</td>\n",
       "      <td>M</td>\n",
       "      <td>YES</td>\n",
       "      <td>0</td>\n",
       "      <td>158.0</td>\n",
       "      <td>88.0</td>\n",
       "      <td>94.0</td>\n",
       "      <td>1</td>\n",
       "    </tr>\n",
       "    <tr>\n",
       "      <th>4</th>\n",
       "      <td>64</td>\n",
       "      <td>F</td>\n",
       "      <td>YES</td>\n",
       "      <td>0</td>\n",
       "      <td>136.5</td>\n",
       "      <td>85.0</td>\n",
       "      <td>77.0</td>\n",
       "      <td>0</td>\n",
       "    </tr>\n",
       "  </tbody>\n",
       "</table>\n",
       "</div>"
      ],
      "text/plain": [
       "   age sex is_smoking  diabetes  sysBP  diaBP  glucose  TenYearCHD\n",
       "0   64   F        YES         0  148.0   85.0     80.0           1\n",
       "1   36   M         NO         0  168.0   98.0     75.0           0\n",
       "2   46   F        YES         0  116.0   71.0     94.0           0\n",
       "3   50   M        YES         0  158.0   88.0     94.0           1\n",
       "4   64   F        YES         0  136.5   85.0     77.0           0"
      ]
     },
     "execution_count": 117,
     "metadata": {},
     "output_type": "execute_result"
    }
   ],
   "source": [
    "df.head()"
   ]
  },
  {
   "cell_type": "code",
   "execution_count": 119,
   "id": "7eeb1435",
   "metadata": {},
   "outputs": [
    {
     "data": {
      "text/plain": [
       "2"
      ]
     },
     "execution_count": 119,
     "metadata": {},
     "output_type": "execute_result"
    }
   ],
   "source": [
    "df.duplicated().sum()"
   ]
  },
  {
   "cell_type": "code",
   "execution_count": 120,
   "id": "28998988",
   "metadata": {
    "scrolled": true
   },
   "outputs": [
    {
     "name": "stdout",
     "output_type": "stream",
     "text": [
      "<class 'pandas.core.frame.DataFrame'>\n",
      "RangeIndex: 3390 entries, 0 to 3389\n",
      "Data columns (total 8 columns):\n",
      " #   Column      Non-Null Count  Dtype  \n",
      "---  ------      --------------  -----  \n",
      " 0   age         3390 non-null   int64  \n",
      " 1   sex         3390 non-null   object \n",
      " 2   is_smoking  3390 non-null   object \n",
      " 3   diabetes    3390 non-null   int64  \n",
      " 4   sysBP       3390 non-null   float64\n",
      " 5   diaBP       3390 non-null   float64\n",
      " 6   glucose     3086 non-null   float64\n",
      " 7   TenYearCHD  3390 non-null   int64  \n",
      "dtypes: float64(3), int64(3), object(2)\n",
      "memory usage: 212.0+ KB\n"
     ]
    }
   ],
   "source": [
    "df.info()"
   ]
  },
  {
   "cell_type": "code",
   "execution_count": 121,
   "id": "9f7ab011",
   "metadata": {},
   "outputs": [
    {
     "data": {
      "text/html": [
       "<div>\n",
       "<style scoped>\n",
       "    .dataframe tbody tr th:only-of-type {\n",
       "        vertical-align: middle;\n",
       "    }\n",
       "\n",
       "    .dataframe tbody tr th {\n",
       "        vertical-align: top;\n",
       "    }\n",
       "\n",
       "    .dataframe thead th {\n",
       "        text-align: right;\n",
       "    }\n",
       "</style>\n",
       "<table border=\"1\" class=\"dataframe\">\n",
       "  <thead>\n",
       "    <tr style=\"text-align: right;\">\n",
       "      <th></th>\n",
       "      <th>age</th>\n",
       "      <th>diabetes</th>\n",
       "      <th>sysBP</th>\n",
       "      <th>diaBP</th>\n",
       "      <th>glucose</th>\n",
       "      <th>TenYearCHD</th>\n",
       "    </tr>\n",
       "  </thead>\n",
       "  <tbody>\n",
       "    <tr>\n",
       "      <th>count</th>\n",
       "      <td>3390.000000</td>\n",
       "      <td>3390.000000</td>\n",
       "      <td>3390.00000</td>\n",
       "      <td>3390.000000</td>\n",
       "      <td>3086.000000</td>\n",
       "      <td>3390.000000</td>\n",
       "    </tr>\n",
       "    <tr>\n",
       "      <th>mean</th>\n",
       "      <td>49.542183</td>\n",
       "      <td>0.025664</td>\n",
       "      <td>132.60118</td>\n",
       "      <td>82.883038</td>\n",
       "      <td>82.086520</td>\n",
       "      <td>0.150737</td>\n",
       "    </tr>\n",
       "    <tr>\n",
       "      <th>std</th>\n",
       "      <td>8.592878</td>\n",
       "      <td>0.158153</td>\n",
       "      <td>22.29203</td>\n",
       "      <td>12.023581</td>\n",
       "      <td>24.244753</td>\n",
       "      <td>0.357846</td>\n",
       "    </tr>\n",
       "    <tr>\n",
       "      <th>min</th>\n",
       "      <td>32.000000</td>\n",
       "      <td>0.000000</td>\n",
       "      <td>83.50000</td>\n",
       "      <td>48.000000</td>\n",
       "      <td>40.000000</td>\n",
       "      <td>0.000000</td>\n",
       "    </tr>\n",
       "    <tr>\n",
       "      <th>25%</th>\n",
       "      <td>42.000000</td>\n",
       "      <td>0.000000</td>\n",
       "      <td>117.00000</td>\n",
       "      <td>74.500000</td>\n",
       "      <td>71.000000</td>\n",
       "      <td>0.000000</td>\n",
       "    </tr>\n",
       "    <tr>\n",
       "      <th>50%</th>\n",
       "      <td>49.000000</td>\n",
       "      <td>0.000000</td>\n",
       "      <td>128.50000</td>\n",
       "      <td>82.000000</td>\n",
       "      <td>78.000000</td>\n",
       "      <td>0.000000</td>\n",
       "    </tr>\n",
       "    <tr>\n",
       "      <th>75%</th>\n",
       "      <td>56.000000</td>\n",
       "      <td>0.000000</td>\n",
       "      <td>144.00000</td>\n",
       "      <td>90.000000</td>\n",
       "      <td>87.000000</td>\n",
       "      <td>0.000000</td>\n",
       "    </tr>\n",
       "    <tr>\n",
       "      <th>max</th>\n",
       "      <td>70.000000</td>\n",
       "      <td>1.000000</td>\n",
       "      <td>295.00000</td>\n",
       "      <td>142.500000</td>\n",
       "      <td>394.000000</td>\n",
       "      <td>1.000000</td>\n",
       "    </tr>\n",
       "  </tbody>\n",
       "</table>\n",
       "</div>"
      ],
      "text/plain": [
       "               age     diabetes       sysBP        diaBP      glucose  \\\n",
       "count  3390.000000  3390.000000  3390.00000  3390.000000  3086.000000   \n",
       "mean     49.542183     0.025664   132.60118    82.883038    82.086520   \n",
       "std       8.592878     0.158153    22.29203    12.023581    24.244753   \n",
       "min      32.000000     0.000000    83.50000    48.000000    40.000000   \n",
       "25%      42.000000     0.000000   117.00000    74.500000    71.000000   \n",
       "50%      49.000000     0.000000   128.50000    82.000000    78.000000   \n",
       "75%      56.000000     0.000000   144.00000    90.000000    87.000000   \n",
       "max      70.000000     1.000000   295.00000   142.500000   394.000000   \n",
       "\n",
       "        TenYearCHD  \n",
       "count  3390.000000  \n",
       "mean      0.150737  \n",
       "std       0.357846  \n",
       "min       0.000000  \n",
       "25%       0.000000  \n",
       "50%       0.000000  \n",
       "75%       0.000000  \n",
       "max       1.000000  "
      ]
     },
     "execution_count": 121,
     "metadata": {},
     "output_type": "execute_result"
    }
   ],
   "source": [
    "df.describe()"
   ]
  },
  {
   "cell_type": "code",
   "execution_count": 122,
   "id": "cca0d42c",
   "metadata": {},
   "outputs": [
    {
     "data": {
      "text/plain": [
       "(3390, 8)"
      ]
     },
     "execution_count": 122,
     "metadata": {},
     "output_type": "execute_result"
    }
   ],
   "source": [
    "df.shape"
   ]
  },
  {
   "cell_type": "code",
   "execution_count": 123,
   "id": "77f5e07d",
   "metadata": {},
   "outputs": [
    {
     "data": {
      "text/plain": [
       "age             0\n",
       "sex             0\n",
       "is_smoking      0\n",
       "diabetes        0\n",
       "sysBP           0\n",
       "diaBP           0\n",
       "glucose       304\n",
       "TenYearCHD      0\n",
       "dtype: int64"
      ]
     },
     "execution_count": 123,
     "metadata": {},
     "output_type": "execute_result"
    }
   ],
   "source": [
    "df.isnull().sum()"
   ]
  },
  {
   "cell_type": "code",
   "execution_count": 124,
   "id": "8c430572",
   "metadata": {},
   "outputs": [],
   "source": [
    "df=df.dropna()"
   ]
  },
  {
   "cell_type": "code",
   "execution_count": 125,
   "id": "3ec8a9ed",
   "metadata": {},
   "outputs": [
    {
     "data": {
      "text/plain": [
       "age           0\n",
       "sex           0\n",
       "is_smoking    0\n",
       "diabetes      0\n",
       "sysBP         0\n",
       "diaBP         0\n",
       "glucose       0\n",
       "TenYearCHD    0\n",
       "dtype: int64"
      ]
     },
     "execution_count": 125,
     "metadata": {},
     "output_type": "execute_result"
    }
   ],
   "source": [
    "df.isnull().sum()"
   ]
  },
  {
   "cell_type": "code",
   "execution_count": 126,
   "id": "6be2b17f",
   "metadata": {},
   "outputs": [
    {
     "data": {
      "text/plain": [
       "<Axes: >"
      ]
     },
     "execution_count": 126,
     "metadata": {},
     "output_type": "execute_result"
    },
    {
     "data": {
      "image/png": "[encoded data removed]",
      "text/plain": [
       "<Figure size 640x480 with 1 Axes>"
      ]
     },
     "metadata": {},
     "output_type": "display_data"
    }
   ],
   "source": [
    "sns.boxplot(df[\"sysBP\"])"
   ]
  },
  {
   "cell_type": "code",
   "execution_count": 127,
   "id": "c8b894d8",
   "metadata": {},
   "outputs": [
    {
     "data": {
      "text/plain": [
       "array([148. , 168. , 116. , 158. , 136.5, 182. , 232. , 102. , 126. ,\n",
       "       138. ,  96. , 146.5, 160. , 146. , 163. , 129. , 122.5, 130. ,\n",
       "       141. , 142. , 113. , 172.5, 107. , 105. , 122. , 155. , 134. ,\n",
       "       152. , 142.5, 149. , 186.5, 104. , 101. , 112. , 165. , 114. ,\n",
       "       131. , 111. , 133. , 109. , 121.5, 144. , 120. , 178. , 150. ,\n",
       "       152.5, 193. , 151. , 118.5, 125. , 110. , 136. , 113.5, 127. ,\n",
       "       115. , 103. , 124. , 135. , 118. , 132. , 128. , 100. , 115.5,\n",
       "       127.5, 123. , 174.5, 129.5, 117. , 117.5, 147. , 177.5, 109.5,\n",
       "       157.5, 108. , 106. , 112.5, 107.5, 137. , 124.5, 192. , 207. ,\n",
       "       119. , 179.5, 157. , 176. ,  90. , 140. , 159. , 150.5, 202. ,\n",
       "       116.5, 158.5, 121. ,  95. , 120.5, 156. , 145. , 143.5, 131.5,\n",
       "       125.5, 180. , 105.5, 126.5, 153. , 154. , 119.5, 182.5, 166.5,\n",
       "       175. , 170. , 143. , 244. , 161.5, 100.5, 132.5, 186. ,  94. ,\n",
       "       172. , 149.5, 137.5, 191. , 159.5, 106.5, 141.5, 160.5, 154.5,\n",
       "       164.5, 166. , 195. , 102.5, 145.5, 185.5, 128.5, 147.5,  97. ,\n",
       "       190. , 212. , 156.5, 130.5,  96.5, 144.5, 174. , 139. , 114.5,\n",
       "       167. , 210. , 202.5, 140.5, 151.5, 148.5, 153.5, 180.5, 184. ,\n",
       "       196. , 167.5, 248. , 215. , 181. ,  99. ,  98. , 208. , 168.5,\n",
       "       134.5,  99.5, 173. , 194. , 155.5, 204. ,  83.5, 214. , 188.5,\n",
       "       123.5, 187. , 161. , 192.5, 108.5, 177. , 197. , 185. , 111.5,\n",
       "       162. , 169. , 164. , 230. , 169.5, 138.5,  93.5, 205. , 200. ,\n",
       "       179. , 199. ,  93. , 162.5, 133.5, 189. , 171. , 198. , 163.5,\n",
       "       209. , 135.5, 184.5, 295. , 235. , 139.5, 188. , 197.5, 101.5,\n",
       "       206. ,  97.5, 110.5, 243. , 183. , 205.5, 175.5, 187.5,  95.5,\n",
       "        85. , 220. , 217. , 213. ,  92.5, 207.5, 171.5, 104.5,  85.5])"
      ]
     },
     "execution_count": 127,
     "metadata": {},
     "output_type": "execute_result"
    }
   ],
   "source": [
    "df[\"sysBP\"].unique()"
   ]
  },
  {
   "cell_type": "code",
   "execution_count": 128,
   "id": "33f5a48b",
   "metadata": {},
   "outputs": [
    {
     "data": {
      "text/plain": [
       "<Axes: >"
      ]
     },
     "execution_count": 128,
     "metadata": {},
     "output_type": "execute_result"
    },
    {
     "data": {
      "image/png": "[encoded data removed]",
      "text/plain": [
       "<Figure size 640x480 with 1 Axes>"
      ]
     },
     "metadata": {},
     "output_type": "display_data"
    }
   ],
   "source": [
    "sns.boxplot(df[\"diaBP\"])"
   ]
  },
  {
   "cell_type": "code",
   "execution_count": 129,
   "id": "50df21ea",
   "metadata": {},
   "outputs": [],
   "source": [
    "# Create dummy variables for the 'Category' column with dummy trap (inplace=True)\n",
    "df=pd.get_dummies(df, columns=['sex','is_smoking'],drop_first=True)"
   ]
  },
  {
   "cell_type": "code",
   "execution_count": 130,
   "id": "156658a7",
   "metadata": {},
   "outputs": [
    {
     "data": {
      "text/html": [
       "<div>\n",
       "<style scoped>\n",
       "    .dataframe tbody tr th:only-of-type {\n",
       "        vertical-align: middle;\n",
       "    }\n",
       "\n",
       "    .dataframe tbody tr th {\n",
       "        vertical-align: top;\n",
       "    }\n",
       "\n",
       "    .dataframe thead th {\n",
       "        text-align: right;\n",
       "    }\n",
       "</style>\n",
       "<table border=\"1\" class=\"dataframe\">\n",
       "  <thead>\n",
       "    <tr style=\"text-align: right;\">\n",
       "      <th></th>\n",
       "      <th>age</th>\n",
       "      <th>diabetes</th>\n",
       "      <th>sysBP</th>\n",
       "      <th>diaBP</th>\n",
       "      <th>glucose</th>\n",
       "      <th>TenYearCHD</th>\n",
       "      <th>sex_M</th>\n",
       "      <th>is_smoking_YES</th>\n",
       "    </tr>\n",
       "  </thead>\n",
       "  <tbody>\n",
       "    <tr>\n",
       "      <th>0</th>\n",
       "      <td>64</td>\n",
       "      <td>0</td>\n",
       "      <td>148.0</td>\n",
       "      <td>85.0</td>\n",
       "      <td>80.0</td>\n",
       "      <td>1</td>\n",
       "      <td>0</td>\n",
       "      <td>1</td>\n",
       "    </tr>\n",
       "    <tr>\n",
       "      <th>1</th>\n",
       "      <td>36</td>\n",
       "      <td>0</td>\n",
       "      <td>168.0</td>\n",
       "      <td>98.0</td>\n",
       "      <td>75.0</td>\n",
       "      <td>0</td>\n",
       "      <td>1</td>\n",
       "      <td>0</td>\n",
       "    </tr>\n",
       "    <tr>\n",
       "      <th>2</th>\n",
       "      <td>46</td>\n",
       "      <td>0</td>\n",
       "      <td>116.0</td>\n",
       "      <td>71.0</td>\n",
       "      <td>94.0</td>\n",
       "      <td>0</td>\n",
       "      <td>0</td>\n",
       "      <td>1</td>\n",
       "    </tr>\n",
       "    <tr>\n",
       "      <th>3</th>\n",
       "      <td>50</td>\n",
       "      <td>0</td>\n",
       "      <td>158.0</td>\n",
       "      <td>88.0</td>\n",
       "      <td>94.0</td>\n",
       "      <td>1</td>\n",
       "      <td>1</td>\n",
       "      <td>1</td>\n",
       "    </tr>\n",
       "    <tr>\n",
       "      <th>4</th>\n",
       "      <td>64</td>\n",
       "      <td>0</td>\n",
       "      <td>136.5</td>\n",
       "      <td>85.0</td>\n",
       "      <td>77.0</td>\n",
       "      <td>0</td>\n",
       "      <td>0</td>\n",
       "      <td>1</td>\n",
       "    </tr>\n",
       "    <tr>\n",
       "      <th>...</th>\n",
       "      <td>...</td>\n",
       "      <td>...</td>\n",
       "      <td>...</td>\n",
       "      <td>...</td>\n",
       "      <td>...</td>\n",
       "      <td>...</td>\n",
       "      <td>...</td>\n",
       "      <td>...</td>\n",
       "    </tr>\n",
       "    <tr>\n",
       "      <th>3385</th>\n",
       "      <td>60</td>\n",
       "      <td>0</td>\n",
       "      <td>123.5</td>\n",
       "      <td>79.0</td>\n",
       "      <td>103.0</td>\n",
       "      <td>0</td>\n",
       "      <td>0</td>\n",
       "      <td>0</td>\n",
       "    </tr>\n",
       "    <tr>\n",
       "      <th>3386</th>\n",
       "      <td>46</td>\n",
       "      <td>0</td>\n",
       "      <td>102.0</td>\n",
       "      <td>56.0</td>\n",
       "      <td>84.0</td>\n",
       "      <td>0</td>\n",
       "      <td>0</td>\n",
       "      <td>0</td>\n",
       "    </tr>\n",
       "    <tr>\n",
       "      <th>3387</th>\n",
       "      <td>44</td>\n",
       "      <td>0</td>\n",
       "      <td>164.0</td>\n",
       "      <td>119.0</td>\n",
       "      <td>72.0</td>\n",
       "      <td>1</td>\n",
       "      <td>1</td>\n",
       "      <td>1</td>\n",
       "    </tr>\n",
       "    <tr>\n",
       "      <th>3388</th>\n",
       "      <td>60</td>\n",
       "      <td>0</td>\n",
       "      <td>167.0</td>\n",
       "      <td>105.0</td>\n",
       "      <td>85.0</td>\n",
       "      <td>0</td>\n",
       "      <td>1</td>\n",
       "      <td>0</td>\n",
       "    </tr>\n",
       "    <tr>\n",
       "      <th>3389</th>\n",
       "      <td>54</td>\n",
       "      <td>0</td>\n",
       "      <td>124.0</td>\n",
       "      <td>77.0</td>\n",
       "      <td>92.0</td>\n",
       "      <td>0</td>\n",
       "      <td>0</td>\n",
       "      <td>0</td>\n",
       "    </tr>\n",
       "  </tbody>\n",
       "</table>\n",
       "<p>3086 rows × 8 columns</p>\n",
       "</div>"
      ],
      "text/plain": [
       "      age  diabetes  sysBP  diaBP  glucose  TenYearCHD  sex_M  is_smoking_YES\n",
       "0      64         0  148.0   85.0     80.0           1      0               1\n",
       "1      36         0  168.0   98.0     75.0           0      1               0\n",
       "2      46         0  116.0   71.0     94.0           0      0               1\n",
       "3      50         0  158.0   88.0     94.0           1      1               1\n",
       "4      64         0  136.5   85.0     77.0           0      0               1\n",
       "...   ...       ...    ...    ...      ...         ...    ...             ...\n",
       "3385   60         0  123.5   79.0    103.0           0      0               0\n",
       "3386   46         0  102.0   56.0     84.0           0      0               0\n",
       "3387   44         0  164.0  119.0     72.0           1      1               1\n",
       "3388   60         0  167.0  105.0     85.0           0      1               0\n",
       "3389   54         0  124.0   77.0     92.0           0      0               0\n",
       "\n",
       "[3086 rows x 8 columns]"
      ]
     },
     "execution_count": 130,
     "metadata": {},
     "output_type": "execute_result"
    }
   ],
   "source": [
    "df"
   ]
  },
  {
   "cell_type": "code",
   "execution_count": 131,
   "id": "364d0fe9",
   "metadata": {},
   "outputs": [
    {
     "data": {
      "image/png": "[encoded data removed]",
      "text/plain": [
       "<Figure size 800x600 with 1 Axes>"
      ]
     },
     "metadata": {},
     "output_type": "display_data"
    }
   ],
   "source": [
    "# Plot the distribution of the 'glucose' column using seaborn histogram\n",
    "plt.figure(figsize=(8, 6))\n",
    "sns.histplot(data=df, x='sysBP', kde=True, bins=10, color='blue', alpha=0.7)\n",
    "plt.title(\"Distribution of 'sysBP' Column\")\n",
    "plt.xlabel(\"sysBP Value\")\n",
    "plt.ylabel(\"Count\")\n",
    "plt.show()"
   ]
  },
  {
   "cell_type": "code",
   "execution_count": 132,
   "id": "e668d581",
   "metadata": {},
   "outputs": [
    {
     "data": {
      "image/png": "[encoded data removed]",
      "text/plain": [
       "<Figure size 800x600 with 1 Axes>"
      ]
     },
     "metadata": {},
     "output_type": "display_data"
    }
   ],
   "source": [
    "# Plot the distribution of the 'glucose' column using seaborn histogram\n",
    "plt.figure(figsize=(8, 6))\n",
    "sns.histplot(data=df, x='diaBP', kde=True, bins=10, color='blue', alpha=0.7)\n",
    "plt.title(\"Distribution of 'diaBP' Column\")\n",
    "plt.xlabel(\"diaBP Value\")\n",
    "plt.ylabel(\"Count\")\n",
    "plt.show()"
   ]
  },
  {
   "cell_type": "code",
   "execution_count": 133,
   "id": "cec2b884",
   "metadata": {},
   "outputs": [
    {
     "data": {
      "image/png": "[encoded data removed]",
      "text/plain": [
       "<Figure size 500x500 with 1 Axes>"
      ]
     },
     "metadata": {},
     "output_type": "display_data"
    }
   ],
   "source": [
    "plt.figure(figsize=(5,5))\n",
    "sns.histplot(data=df, x='glucose', kde=True, bins=10, color='blue', alpha=0.7)\n",
    "plt.title(\"Distribution of 'glucose' Column\")\n",
    "plt.xlabel(\"Glucose Value\")\n",
    "plt.ylabel(\"Count\")\n",
    "plt.show()"
   ]
  },
  {
   "cell_type": "code",
   "execution_count": 134,
   "id": "2b0151aa",
   "metadata": {},
   "outputs": [
    {
     "name": "stdout",
     "output_type": "stream",
     "text": [
      "      age  diabetes  sysBP  diaBP   glucose  TenYearCHD  sex_M  is_smoking_YES\n",
      "0      64         0  148.0   85.0  0.112994           1      0               1\n",
      "1      36         0  168.0   98.0  0.098870           0      1               0\n",
      "2      46         0  116.0   71.0  0.152542           0      0               1\n",
      "3      50         0  158.0   88.0  0.152542           1      1               1\n",
      "4      64         0  136.5   85.0  0.104520           0      0               1\n",
      "...   ...       ...    ...    ...       ...         ...    ...             ...\n",
      "3385   60         0  123.5   79.0  0.177966           0      0               0\n",
      "3386   46         0  102.0   56.0  0.124294           0      0               0\n",
      "3387   44         0  164.0  119.0  0.090395           1      1               1\n",
      "3388   60         0  167.0  105.0  0.127119           0      1               0\n",
      "3389   54         0  124.0   77.0  0.146893           0      0               0\n",
      "\n",
      "[3086 rows x 8 columns]\n"
     ]
    }
   ],
   "source": [
    "from sklearn.preprocessing import MinMaxScaler\n",
    "\n",
    "# Create a MinMaxScaler object\n",
    "scaler = MinMaxScaler()\n",
    "\n",
    "# Fit and transform the 'glucose' column using MinMaxScaler\n",
    "df['glucose'] = scaler.fit_transform(df[['glucose']])\n",
    "\n",
    "# Print the DataFrame with the normalized 'glucose' column\n",
    "print(df)\n"
   ]
  },
  {
   "cell_type": "code",
   "execution_count": 135,
   "id": "0c89e049",
   "metadata": {},
   "outputs": [],
   "source": [
    "df['sysBP'] = scaler.fit_transform(df[['sysBP']])\n"
   ]
  },
  {
   "cell_type": "code",
   "execution_count": 136,
   "id": "325e00cf",
   "metadata": {},
   "outputs": [],
   "source": [
    "df['diaBP'] = scaler.fit_transform(df[['diaBP']])"
   ]
  },
  {
   "cell_type": "code",
   "execution_count": 137,
   "id": "949f2542",
   "metadata": {},
   "outputs": [
    {
     "data": {
      "text/html": [
       "<div>\n",
       "<style scoped>\n",
       "    .dataframe tbody tr th:only-of-type {\n",
       "        vertical-align: middle;\n",
       "    }\n",
       "\n",
       "    .dataframe tbody tr th {\n",
       "        vertical-align: top;\n",
       "    }\n",
       "\n",
       "    .dataframe thead th {\n",
       "        text-align: right;\n",
       "    }\n",
       "</style>\n",
       "<table border=\"1\" class=\"dataframe\">\n",
       "  <thead>\n",
       "    <tr style=\"text-align: right;\">\n",
       "      <th></th>\n",
       "      <th>age</th>\n",
       "      <th>diabetes</th>\n",
       "      <th>sysBP</th>\n",
       "      <th>diaBP</th>\n",
       "      <th>glucose</th>\n",
       "      <th>TenYearCHD</th>\n",
       "      <th>sex_M</th>\n",
       "      <th>is_smoking_YES</th>\n",
       "    </tr>\n",
       "  </thead>\n",
       "  <tbody>\n",
       "    <tr>\n",
       "      <th>0</th>\n",
       "      <td>64</td>\n",
       "      <td>0</td>\n",
       "      <td>0.304965</td>\n",
       "      <td>0.391534</td>\n",
       "      <td>0.112994</td>\n",
       "      <td>1</td>\n",
       "      <td>0</td>\n",
       "      <td>1</td>\n",
       "    </tr>\n",
       "    <tr>\n",
       "      <th>1</th>\n",
       "      <td>36</td>\n",
       "      <td>0</td>\n",
       "      <td>0.399527</td>\n",
       "      <td>0.529101</td>\n",
       "      <td>0.098870</td>\n",
       "      <td>0</td>\n",
       "      <td>1</td>\n",
       "      <td>0</td>\n",
       "    </tr>\n",
       "    <tr>\n",
       "      <th>2</th>\n",
       "      <td>46</td>\n",
       "      <td>0</td>\n",
       "      <td>0.153664</td>\n",
       "      <td>0.243386</td>\n",
       "      <td>0.152542</td>\n",
       "      <td>0</td>\n",
       "      <td>0</td>\n",
       "      <td>1</td>\n",
       "    </tr>\n",
       "    <tr>\n",
       "      <th>3</th>\n",
       "      <td>50</td>\n",
       "      <td>0</td>\n",
       "      <td>0.352246</td>\n",
       "      <td>0.423280</td>\n",
       "      <td>0.152542</td>\n",
       "      <td>1</td>\n",
       "      <td>1</td>\n",
       "      <td>1</td>\n",
       "    </tr>\n",
       "    <tr>\n",
       "      <th>4</th>\n",
       "      <td>64</td>\n",
       "      <td>0</td>\n",
       "      <td>0.250591</td>\n",
       "      <td>0.391534</td>\n",
       "      <td>0.104520</td>\n",
       "      <td>0</td>\n",
       "      <td>0</td>\n",
       "      <td>1</td>\n",
       "    </tr>\n",
       "    <tr>\n",
       "      <th>...</th>\n",
       "      <td>...</td>\n",
       "      <td>...</td>\n",
       "      <td>...</td>\n",
       "      <td>...</td>\n",
       "      <td>...</td>\n",
       "      <td>...</td>\n",
       "      <td>...</td>\n",
       "      <td>...</td>\n",
       "    </tr>\n",
       "    <tr>\n",
       "      <th>3385</th>\n",
       "      <td>60</td>\n",
       "      <td>0</td>\n",
       "      <td>0.189125</td>\n",
       "      <td>0.328042</td>\n",
       "      <td>0.177966</td>\n",
       "      <td>0</td>\n",
       "      <td>0</td>\n",
       "      <td>0</td>\n",
       "    </tr>\n",
       "    <tr>\n",
       "      <th>3386</th>\n",
       "      <td>46</td>\n",
       "      <td>0</td>\n",
       "      <td>0.087470</td>\n",
       "      <td>0.084656</td>\n",
       "      <td>0.124294</td>\n",
       "      <td>0</td>\n",
       "      <td>0</td>\n",
       "      <td>0</td>\n",
       "    </tr>\n",
       "    <tr>\n",
       "      <th>3387</th>\n",
       "      <td>44</td>\n",
       "      <td>0</td>\n",
       "      <td>0.380615</td>\n",
       "      <td>0.751323</td>\n",
       "      <td>0.090395</td>\n",
       "      <td>1</td>\n",
       "      <td>1</td>\n",
       "      <td>1</td>\n",
       "    </tr>\n",
       "    <tr>\n",
       "      <th>3388</th>\n",
       "      <td>60</td>\n",
       "      <td>0</td>\n",
       "      <td>0.394799</td>\n",
       "      <td>0.603175</td>\n",
       "      <td>0.127119</td>\n",
       "      <td>0</td>\n",
       "      <td>1</td>\n",
       "      <td>0</td>\n",
       "    </tr>\n",
       "    <tr>\n",
       "      <th>3389</th>\n",
       "      <td>54</td>\n",
       "      <td>0</td>\n",
       "      <td>0.191489</td>\n",
       "      <td>0.306878</td>\n",
       "      <td>0.146893</td>\n",
       "      <td>0</td>\n",
       "      <td>0</td>\n",
       "      <td>0</td>\n",
       "    </tr>\n",
       "  </tbody>\n",
       "</table>\n",
       "<p>3086 rows × 8 columns</p>\n",
       "</div>"
      ],
      "text/plain": [
       "      age  diabetes     sysBP     diaBP   glucose  TenYearCHD  sex_M  \\\n",
       "0      64         0  0.304965  0.391534  0.112994           1      0   \n",
       "1      36         0  0.399527  0.529101  0.098870           0      1   \n",
       "2      46         0  0.153664  0.243386  0.152542           0      0   \n",
       "3      50         0  0.352246  0.423280  0.152542           1      1   \n",
       "4      64         0  0.250591  0.391534  0.104520           0      0   \n",
       "...   ...       ...       ...       ...       ...         ...    ...   \n",
       "3385   60         0  0.189125  0.328042  0.177966           0      0   \n",
       "3386   46         0  0.087470  0.084656  0.124294           0      0   \n",
       "3387   44         0  0.380615  0.751323  0.090395           1      1   \n",
       "3388   60         0  0.394799  0.603175  0.127119           0      1   \n",
       "3389   54         0  0.191489  0.306878  0.146893           0      0   \n",
       "\n",
       "      is_smoking_YES  \n",
       "0                  1  \n",
       "1                  0  \n",
       "2                  1  \n",
       "3                  1  \n",
       "4                  1  \n",
       "...              ...  \n",
       "3385               0  \n",
       "3386               0  \n",
       "3387               1  \n",
       "3388               0  \n",
       "3389               0  \n",
       "\n",
       "[3086 rows x 8 columns]"
      ]
     },
     "execution_count": 137,
     "metadata": {},
     "output_type": "execute_result"
    }
   ],
   "source": [
    "df"
   ]
  },
  {
   "cell_type": "code",
   "execution_count": 138,
   "id": "5284550d",
   "metadata": {},
   "outputs": [
    {
     "data": {
      "text/plain": [
       "0    2614\n",
       "1     472\n",
       "Name: TenYearCHD, dtype: int64"
      ]
     },
     "execution_count": 138,
     "metadata": {},
     "output_type": "execute_result"
    }
   ],
   "source": [
    "df[\"TenYearCHD\"].value_counts()"
   ]
  },
  {
   "cell_type": "code",
   "execution_count": 139,
   "id": "97ef00af",
   "metadata": {},
   "outputs": [
    {
     "name": "stderr",
     "output_type": "stream",
     "text": [
      "C:\\Users\\Akif\\AppData\\Local\\Temp\\ipykernel_11624\\4222067842.py:2: FutureWarning: In a future version of pandas all arguments of DataFrame.drop except for the argument 'labels' will be keyword-only.\n",
      "  x=df.drop(\"TenYearCHD\",1)\n"
     ]
    }
   ],
   "source": [
    "from sklearn.model_selection import train_test_split\n",
    "x=df.drop(\"TenYearCHD\",1)\n",
    "y=df.TenYearCHD\n",
    "from sklearn.datasets import make_classification\n",
    "x, y = make_classification(n_samples=3000, n_classes=2, weights=[1,1], random_state=1)"
   ]
  },
  {
   "cell_type": "code",
   "execution_count": 140,
   "id": "8ba0245a",
   "metadata": {},
   "outputs": [
    {
     "data": {
      "text/plain": [
       "array([[ 1.8812934 ,  0.1348116 , -0.01617488, ..., -0.92782099,\n",
       "         0.57263235, -1.23766068],\n",
       "       [ 0.78667182, -2.56321863, -0.81999288, ...,  1.01849407,\n",
       "        -0.64393633, -0.64932948],\n",
       "       [ 1.01902732,  1.08842814,  0.07298297, ...,  0.91458143,\n",
       "        -0.61450942, -0.56637507],\n",
       "       ...,\n",
       "       [ 0.49200809, -1.42870503, -0.30492251, ...,  0.16808831,\n",
       "        -1.24069384, -0.13209967],\n",
       "       [ 0.17520955, -0.38286623, -0.81161693, ..., -0.75455837,\n",
       "         0.70355448, -1.41250761],\n",
       "       [ 0.25169173,  0.31594868, -0.64972744, ...,  0.11078883,\n",
       "         1.52620202,  0.52269544]])"
      ]
     },
     "execution_count": 140,
     "metadata": {},
     "output_type": "execute_result"
    }
   ],
   "source": [
    "x"
   ]
  },
  {
   "cell_type": "code",
   "execution_count": 141,
   "id": "00002fe7",
   "metadata": {},
   "outputs": [
    {
     "data": {
      "text/plain": [
       "array([1, 1, 0, ..., 1, 1, 1])"
      ]
     },
     "execution_count": 141,
     "metadata": {},
     "output_type": "execute_result"
    }
   ],
   "source": [
    "y"
   ]
  },
  {
   "cell_type": "code",
   "execution_count": 143,
   "id": "21cec275",
   "metadata": {},
   "outputs": [
    {
     "name": "stdout",
     "output_type": "stream",
     "text": [
      "Accuracy: 0.93\n",
      "Confusion Matrix:\n",
      "[[283  12]\n",
      " [ 30 275]]\n",
      "Classification Report:\n",
      "              precision    recall  f1-score   support\n",
      "\n",
      "           0       0.90      0.96      0.93       295\n",
      "           1       0.96      0.90      0.93       305\n",
      "\n",
      "    accuracy                           0.93       600\n",
      "   macro avg       0.93      0.93      0.93       600\n",
      "weighted avg       0.93      0.93      0.93       600\n",
      "\n",
      "Recall: 0.9016393442622951\n",
      "Precision: 0.9581881533101045\n"
     ]
    }
   ],
   "source": [
    "\n",
    "from sklearn.linear_model import LogisticRegression\n",
    "from sklearn.metrics import accuracy_score, confusion_matrix, classification_report\n",
    "from sklearn.metrics import recall_score\n",
    "from sklearn.metrics import precision_score\n",
    "\n",
    "\n",
    "# Split the data into training and testing sets\n",
    "X_train, X_test, y_train, y_test = train_test_split(x, y, test_size=0.2, random_state=42)\n",
    "\n",
    "# Create and train the logistic regression model\n",
    "model = LogisticRegression()\n",
    "model.fit(X_train, y_train)\n",
    "\n",
    "# Make predictions on the test set\n",
    "y_pred = model.predict(X_test)\n",
    "\n",
    "# Evaluate the model's performance\n",
    "accuracy = accuracy_score(y_test, y_pred)\n",
    "conf_matrix = confusion_matrix(y_test, y_pred)\n",
    "classification_rep = classification_report(y_test, y_pred)\n",
    "recall = recall_score(y_test, y_pred)\n",
    "precision = precision_score(y_test, y_pred)\n",
    "\n",
    "\n",
    "print(\"Accuracy:\", accuracy)\n",
    "print(\"Confusion Matrix:\")\n",
    "print(conf_matrix)\n",
    "print(\"Classification Report:\")\n",
    "print(classification_rep)\n",
    "print(\"Recall:\", recall)\n",
    "print(\"Precision:\", precision)\n"
   ]
  },
  {
   "cell_type": "code",
   "execution_count": 145,
   "id": "4b3f1f2c",
   "metadata": {},
   "outputs": [
    {
     "data": {
      "text/plain": [
       "Index(['age', 'diabetes', 'sysBP', 'diaBP', 'glucose', 'TenYearCHD', 'sex_M',\n",
       "       'is_smoking_YES'],\n",
       "      dtype='object')"
      ]
     },
     "execution_count": 145,
     "metadata": {},
     "output_type": "execute_result"
    }
   ],
   "source": [
    "df.columns"
   ]
  },
  {
   "cell_type": "code",
   "execution_count": 148,
   "id": "e44733fc",
   "metadata": {},
   "outputs": [],
   "source": [
    "\n",
    "import pickle\n",
    "\n",
    "# Assuming your model is stored in the 'model_name' variable\n",
    "file_path = 'model1.pkl'\n",
    "\n",
    "# Save the model as a pickle file\n",
    "with open(file_path, 'wb') as file:\n",
    "    pickle.dump(model, file)\n",
    "\n"
   ]
  },
  {
   "cell_type": "code",
   "execution_count": 149,
   "id": "baa5a809",
   "metadata": {},
   "outputs": [
    {
     "data": {
      "text/plain": [
       "'C:\\\\Users\\\\Akif\\\\Downloads\\\\Data Science'"
      ]
     },
     "execution_count": 149,
     "metadata": {},
     "output_type": "execute_result"
    }
   ],
   "source": [
    "pwd"
   ]
  },
  {
   "cell_type": "code",
   "execution_count": null,
   "id": "5aadef67",
   "metadata": {},
   "outputs": [],
   "source": []
  }
 ],
 "metadata": {
  "kernelspec": {
   "display_name": "Python 3 (ipykernel)",
   "language": "python",
   "name": "python3"
  },
  "language_info": {
   "codemirror_mode": {
    "name": "ipython",
    "version": 3
   },
   "file_extension": ".py",
   "mimetype": "text/x-python",
   "name": "python",
   "nbconvert_exporter": "python",
   "pygments_lexer": "ipython3",
   "version": "3.10.9"
  }
 },
 "nbformat": 4,
 "nbformat_minor": 5
}
